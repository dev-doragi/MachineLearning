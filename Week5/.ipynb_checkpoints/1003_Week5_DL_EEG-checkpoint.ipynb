{
 "cells": [
  {
   "cell_type": "markdown",
   "id": "cf4d9290-032d-4607-972b-9ad9cf086e98",
   "metadata": {},
   "source": [
    "## Deep Learning EEG"
   ]
  },
  {
   "cell_type": "markdown",
   "id": "7613e873-c1f0-4005-bf57-fd0dc84b12d9",
   "metadata": {},
   "source": [
    "0926_Week4_EEG.ipynb에서 만든 eeg_result_combined.csv파일을 가져와 train test split 후 DL을 수행해보자."
   ]
  },
  {
   "cell_type": "code",
   "execution_count": 4,
   "id": "c4f4c95f-86dc-4d76-9195-cbcf34051bb9",
   "metadata": {},
   "outputs": [
    {
     "data": {
      "text/html": [
       "<div>\n",
       "<style scoped>\n",
       "    .dataframe tbody tr th:only-of-type {\n",
       "        vertical-align: middle;\n",
       "    }\n",
       "\n",
       "    .dataframe tbody tr th {\n",
       "        vertical-align: top;\n",
       "    }\n",
       "\n",
       "    .dataframe thead th {\n",
       "        text-align: right;\n",
       "    }\n",
       "</style>\n",
       "<table border=\"1\" class=\"dataframe\">\n",
       "  <thead>\n",
       "    <tr style=\"text-align: right;\">\n",
       "      <th></th>\n",
       "      <th>mean</th>\n",
       "      <th>std</th>\n",
       "      <th>median</th>\n",
       "      <th>mean2</th>\n",
       "      <th>std2</th>\n",
       "      <th>median2</th>\n",
       "      <th>EEG</th>\n",
       "    </tr>\n",
       "  </thead>\n",
       "  <tbody>\n",
       "    <tr>\n",
       "      <th>0</th>\n",
       "      <td>397.587891</td>\n",
       "      <td>228.156137</td>\n",
       "      <td>387.0</td>\n",
       "      <td>210131.353516</td>\n",
       "      <td>226674.550429</td>\n",
       "      <td>149769.0</td>\n",
       "      <td>1</td>\n",
       "    </tr>\n",
       "    <tr>\n",
       "      <th>1</th>\n",
       "      <td>490.419922</td>\n",
       "      <td>387.684615</td>\n",
       "      <td>399.0</td>\n",
       "      <td>390811.060547</td>\n",
       "      <td>676477.249957</td>\n",
       "      <td>159201.0</td>\n",
       "      <td>1</td>\n",
       "    </tr>\n",
       "    <tr>\n",
       "      <th>2</th>\n",
       "      <td>183.037109</td>\n",
       "      <td>131.929301</td>\n",
       "      <td>173.0</td>\n",
       "      <td>50907.923828</td>\n",
       "      <td>89385.029886</td>\n",
       "      <td>29929.0</td>\n",
       "      <td>1</td>\n",
       "    </tr>\n",
       "    <tr>\n",
       "      <th>3</th>\n",
       "      <td>140.076172</td>\n",
       "      <td>94.416030</td>\n",
       "      <td>130.0</td>\n",
       "      <td>28535.720703</td>\n",
       "      <td>34899.483404</td>\n",
       "      <td>16900.0</td>\n",
       "      <td>1</td>\n",
       "    </tr>\n",
       "    <tr>\n",
       "      <th>4</th>\n",
       "      <td>27.093750</td>\n",
       "      <td>19.306810</td>\n",
       "      <td>24.0</td>\n",
       "      <td>1106.824219</td>\n",
       "      <td>1409.293350</td>\n",
       "      <td>576.0</td>\n",
       "      <td>0</td>\n",
       "    </tr>\n",
       "    <tr>\n",
       "      <th>...</th>\n",
       "      <td>...</td>\n",
       "      <td>...</td>\n",
       "      <td>...</td>\n",
       "      <td>...</td>\n",
       "      <td>...</td>\n",
       "      <td>...</td>\n",
       "      <td>...</td>\n",
       "    </tr>\n",
       "    <tr>\n",
       "      <th>1595</th>\n",
       "      <td>53.630859</td>\n",
       "      <td>28.627021</td>\n",
       "      <td>52.0</td>\n",
       "      <td>3695.775391</td>\n",
       "      <td>3444.183525</td>\n",
       "      <td>2704.0</td>\n",
       "      <td>0</td>\n",
       "    </tr>\n",
       "    <tr>\n",
       "      <th>1596</th>\n",
       "      <td>19.496094</td>\n",
       "      <td>15.681522</td>\n",
       "      <td>15.0</td>\n",
       "      <td>626.007812</td>\n",
       "      <td>925.451651</td>\n",
       "      <td>225.0</td>\n",
       "      <td>0</td>\n",
       "    </tr>\n",
       "    <tr>\n",
       "      <th>1597</th>\n",
       "      <td>36.755859</td>\n",
       "      <td>26.725547</td>\n",
       "      <td>32.0</td>\n",
       "      <td>2065.248047</td>\n",
       "      <td>2544.590834</td>\n",
       "      <td>1024.0</td>\n",
       "      <td>0</td>\n",
       "    </tr>\n",
       "    <tr>\n",
       "      <th>1598</th>\n",
       "      <td>27.958984</td>\n",
       "      <td>20.891841</td>\n",
       "      <td>24.5</td>\n",
       "      <td>1218.173828</td>\n",
       "      <td>1621.430200</td>\n",
       "      <td>600.5</td>\n",
       "      <td>0</td>\n",
       "    </tr>\n",
       "    <tr>\n",
       "      <th>1599</th>\n",
       "      <td>366.785156</td>\n",
       "      <td>248.937909</td>\n",
       "      <td>289.0</td>\n",
       "      <td>196501.433594</td>\n",
       "      <td>223971.754276</td>\n",
       "      <td>83521.0</td>\n",
       "      <td>1</td>\n",
       "    </tr>\n",
       "  </tbody>\n",
       "</table>\n",
       "<p>1600 rows × 7 columns</p>\n",
       "</div>"
      ],
      "text/plain": [
       "            mean         std  median          mean2           std2   median2  \\\n",
       "0     397.587891  228.156137   387.0  210131.353516  226674.550429  149769.0   \n",
       "1     490.419922  387.684615   399.0  390811.060547  676477.249957  159201.0   \n",
       "2     183.037109  131.929301   173.0   50907.923828   89385.029886   29929.0   \n",
       "3     140.076172   94.416030   130.0   28535.720703   34899.483404   16900.0   \n",
       "4      27.093750   19.306810    24.0    1106.824219    1409.293350     576.0   \n",
       "...          ...         ...     ...            ...            ...       ...   \n",
       "1595   53.630859   28.627021    52.0    3695.775391    3444.183525    2704.0   \n",
       "1596   19.496094   15.681522    15.0     626.007812     925.451651     225.0   \n",
       "1597   36.755859   26.725547    32.0    2065.248047    2544.590834    1024.0   \n",
       "1598   27.958984   20.891841    24.5    1218.173828    1621.430200     600.5   \n",
       "1599  366.785156  248.937909   289.0  196501.433594  223971.754276   83521.0   \n",
       "\n",
       "      EEG  \n",
       "0       1  \n",
       "1       1  \n",
       "2       1  \n",
       "3       1  \n",
       "4       0  \n",
       "...   ...  \n",
       "1595    0  \n",
       "1596    0  \n",
       "1597    0  \n",
       "1598    0  \n",
       "1599    1  \n",
       "\n",
       "[1600 rows x 7 columns]"
      ]
     },
     "execution_count": 4,
     "metadata": {},
     "output_type": "execute_result"
    }
   ],
   "source": [
    "import numpy as np\n",
    "import pandas as pd\n",
    "import matplotlib.pyplot as plt\n",
    "from sklearn.model_selection import train_test_split\n",
    "from keras import models, layers\n",
    "import seaborn as sns\n",
    "import tensorflow as tf\n",
    "from tensorflow import keras\n",
    "\n",
    "df = pd.read_csv(\"C:/Project/MachineLearning/Result/eeg_result_combined.csv\", encoding='cp949') # \\는 콜백문자 때문에 \\\\로 사용한다.\n",
    "df"
   ]
  },
  {
   "cell_type": "code",
   "execution_count": 6,
   "id": "e0307fc8-5e4b-46d0-b9b6-cc0279ebc934",
   "metadata": {},
   "outputs": [
    {
     "data": {
      "text/html": [
       "<div>\n",
       "<style scoped>\n",
       "    .dataframe tbody tr th:only-of-type {\n",
       "        vertical-align: middle;\n",
       "    }\n",
       "\n",
       "    .dataframe tbody tr th {\n",
       "        vertical-align: top;\n",
       "    }\n",
       "\n",
       "    .dataframe thead th {\n",
       "        text-align: right;\n",
       "    }\n",
       "</style>\n",
       "<table border=\"1\" class=\"dataframe\">\n",
       "  <thead>\n",
       "    <tr style=\"text-align: right;\">\n",
       "      <th></th>\n",
       "      <th>mean</th>\n",
       "      <th>std</th>\n",
       "      <th>median</th>\n",
       "      <th>mean2</th>\n",
       "      <th>std2</th>\n",
       "      <th>median2</th>\n",
       "    </tr>\n",
       "  </thead>\n",
       "  <tbody>\n",
       "    <tr>\n",
       "      <th>0</th>\n",
       "      <td>397.587891</td>\n",
       "      <td>228.156137</td>\n",
       "      <td>387.0</td>\n",
       "      <td>210131.353516</td>\n",
       "      <td>226674.550429</td>\n",
       "      <td>149769.0</td>\n",
       "    </tr>\n",
       "    <tr>\n",
       "      <th>1</th>\n",
       "      <td>490.419922</td>\n",
       "      <td>387.684615</td>\n",
       "      <td>399.0</td>\n",
       "      <td>390811.060547</td>\n",
       "      <td>676477.249957</td>\n",
       "      <td>159201.0</td>\n",
       "    </tr>\n",
       "    <tr>\n",
       "      <th>2</th>\n",
       "      <td>183.037109</td>\n",
       "      <td>131.929301</td>\n",
       "      <td>173.0</td>\n",
       "      <td>50907.923828</td>\n",
       "      <td>89385.029886</td>\n",
       "      <td>29929.0</td>\n",
       "    </tr>\n",
       "    <tr>\n",
       "      <th>3</th>\n",
       "      <td>140.076172</td>\n",
       "      <td>94.416030</td>\n",
       "      <td>130.0</td>\n",
       "      <td>28535.720703</td>\n",
       "      <td>34899.483404</td>\n",
       "      <td>16900.0</td>\n",
       "    </tr>\n",
       "    <tr>\n",
       "      <th>4</th>\n",
       "      <td>27.093750</td>\n",
       "      <td>19.306810</td>\n",
       "      <td>24.0</td>\n",
       "      <td>1106.824219</td>\n",
       "      <td>1409.293350</td>\n",
       "      <td>576.0</td>\n",
       "    </tr>\n",
       "  </tbody>\n",
       "</table>\n",
       "</div>"
      ],
      "text/plain": [
       "         mean         std  median          mean2           std2   median2\n",
       "0  397.587891  228.156137   387.0  210131.353516  226674.550429  149769.0\n",
       "1  490.419922  387.684615   399.0  390811.060547  676477.249957  159201.0\n",
       "2  183.037109  131.929301   173.0   50907.923828   89385.029886   29929.0\n",
       "3  140.076172   94.416030   130.0   28535.720703   34899.483404   16900.0\n",
       "4   27.093750   19.306810    24.0    1106.824219    1409.293350     576.0"
      ]
     },
     "execution_count": 6,
     "metadata": {},
     "output_type": "execute_result"
    }
   ],
   "source": [
    "X=df.drop('EEG', axis=1)\n",
    "X.head()"
   ]
  },
  {
   "cell_type": "code",
   "execution_count": 9,
   "id": "a5dcce8b-b54f-4ed4-aea1-fbc8b5b25d55",
   "metadata": {},
   "outputs": [
    {
     "data": {
      "text/plain": [
       "1    800\n",
       "0    800\n",
       "Name: EEG, dtype: int64"
      ]
     },
     "execution_count": 9,
     "metadata": {},
     "output_type": "execute_result"
    }
   ],
   "source": [
    "y=df['EEG']\n",
    "y.value_counts()"
   ]
  },
  {
   "cell_type": "code",
   "execution_count": 16,
   "id": "aa580a04-f0f0-47eb-b6ad-bfa1577fdc31",
   "metadata": {},
   "outputs": [
    {
     "data": {
      "text/plain": [
       "array([[0, 1],\n",
       "       [0, 1],\n",
       "       [0, 1],\n",
       "       ...,\n",
       "       [1, 0],\n",
       "       [1, 0],\n",
       "       [0, 1]], dtype=uint8)"
      ]
     },
     "execution_count": 16,
     "metadata": {},
     "output_type": "execute_result"
    }
   ],
   "source": [
    "y = pd.get_dummies(y).values\n",
    "y"
   ]
  },
  {
   "cell_type": "code",
   "execution_count": 18,
   "id": "8337e3e4-92ca-4add-9986-3e518fc7ab97",
   "metadata": {},
   "outputs": [
    {
     "data": {
      "text/html": [
       "<div>\n",
       "<style scoped>\n",
       "    .dataframe tbody tr th:only-of-type {\n",
       "        vertical-align: middle;\n",
       "    }\n",
       "\n",
       "    .dataframe tbody tr th {\n",
       "        vertical-align: top;\n",
       "    }\n",
       "\n",
       "    .dataframe thead th {\n",
       "        text-align: right;\n",
       "    }\n",
       "</style>\n",
       "<table border=\"1\" class=\"dataframe\">\n",
       "  <thead>\n",
       "    <tr style=\"text-align: right;\">\n",
       "      <th></th>\n",
       "      <th>mean</th>\n",
       "      <th>std</th>\n",
       "      <th>median</th>\n",
       "      <th>mean2</th>\n",
       "      <th>std2</th>\n",
       "      <th>median2</th>\n",
       "    </tr>\n",
       "  </thead>\n",
       "  <tbody>\n",
       "    <tr>\n",
       "      <th>728</th>\n",
       "      <td>166.699219</td>\n",
       "      <td>110.905714</td>\n",
       "      <td>147.0</td>\n",
       "      <td>40088.707031</td>\n",
       "      <td>46777.919566</td>\n",
       "      <td>21609.0</td>\n",
       "    </tr>\n",
       "    <tr>\n",
       "      <th>48</th>\n",
       "      <td>89.533203</td>\n",
       "      <td>64.798326</td>\n",
       "      <td>79.5</td>\n",
       "      <td>12215.017578</td>\n",
       "      <td>14100.659340</td>\n",
       "      <td>6320.5</td>\n",
       "    </tr>\n",
       "    <tr>\n",
       "      <th>644</th>\n",
       "      <td>30.251953</td>\n",
       "      <td>21.597006</td>\n",
       "      <td>26.0</td>\n",
       "      <td>1381.611328</td>\n",
       "      <td>1712.054194</td>\n",
       "      <td>676.0</td>\n",
       "    </tr>\n",
       "    <tr>\n",
       "      <th>615</th>\n",
       "      <td>328.052734</td>\n",
       "      <td>211.013549</td>\n",
       "      <td>325.0</td>\n",
       "      <td>152145.314453</td>\n",
       "      <td>180005.953860</td>\n",
       "      <td>105625.0</td>\n",
       "    </tr>\n",
       "    <tr>\n",
       "      <th>757</th>\n",
       "      <td>17.726562</td>\n",
       "      <td>12.796768</td>\n",
       "      <td>16.0</td>\n",
       "      <td>477.988281</td>\n",
       "      <td>636.574079</td>\n",
       "      <td>256.0</td>\n",
       "    </tr>\n",
       "  </tbody>\n",
       "</table>\n",
       "</div>"
      ],
      "text/plain": [
       "           mean         std  median          mean2           std2   median2\n",
       "728  166.699219  110.905714   147.0   40088.707031   46777.919566   21609.0\n",
       "48    89.533203   64.798326    79.5   12215.017578   14100.659340    6320.5\n",
       "644   30.251953   21.597006    26.0    1381.611328    1712.054194     676.0\n",
       "615  328.052734  211.013549   325.0  152145.314453  180005.953860  105625.0\n",
       "757   17.726562   12.796768    16.0     477.988281     636.574079     256.0"
      ]
     },
     "execution_count": 18,
     "metadata": {},
     "output_type": "execute_result"
    }
   ],
   "source": [
    "from sklearn.model_selection import train_test_split\n",
    "\n",
    "X_train, X_test, y_train, y_test = train_test_split(X, y, test_size=0.2, random_state=0)\n",
    "\n",
    "X_train.head()"
   ]
  },
  {
   "cell_type": "code",
   "execution_count": 20,
   "id": "44b6371b-9d7c-4052-8462-bc05b67f2c3f",
   "metadata": {},
   "outputs": [
    {
     "data": {
      "text/plain": [
       "array([[0, 1],\n",
       "       [0, 1],\n",
       "       [1, 0],\n",
       "       ...,\n",
       "       [1, 0],\n",
       "       [1, 0],\n",
       "       [1, 0]], dtype=uint8)"
      ]
     },
     "execution_count": 20,
     "metadata": {},
     "output_type": "execute_result"
    }
   ],
   "source": [
    "y_train"
   ]
  },
  {
   "cell_type": "code",
   "execution_count": 21,
   "id": "6fa86d5d-c863-4b4a-9743-ccaabdef8a9a",
   "metadata": {},
   "outputs": [],
   "source": [
    "from keras.models import Sequential, Model\n",
    "from keras.layers import Dense, Input\n",
    "from keras.optimizers import Adam\n",
    "from tensorflow.keras import layers"
   ]
  },
  {
   "cell_type": "code",
   "execution_count": 24,
   "id": "46cac367-f08b-4493-9a1f-683cf114f324",
   "metadata": {},
   "outputs": [
    {
     "name": "stdout",
     "output_type": "stream",
     "text": [
      "Model: \"model_1\"\n",
      "_________________________________________________________________\n",
      " Layer (type)                Output Shape              Param #   \n",
      "=================================================================\n",
      " input_2 (InputLayer)        [(None, 6)]               0         \n",
      "                                                                 \n",
      " dense_3 (Dense)             (None, 16)                112       \n",
      "                                                                 \n",
      " dense_4 (Dense)             (None, 16)                272       \n",
      "                                                                 \n",
      " dense_5 (Dense)             (None, 2)                 34        \n",
      "                                                                 \n",
      "=================================================================\n",
      "Total params: 418 (1.63 KB)\n",
      "Trainable params: 418 (1.63 KB)\n",
      "Non-trainable params: 0 (0.00 Byte)\n",
      "_________________________________________________________________\n"
     ]
    }
   ],
   "source": [
    "# Define the input layer\n",
    "inputs = Input(shape=(X_train.shape[1],))\n",
    "\n",
    "# Define the model architecture\n",
    "x = Dense(16, activation='relu')(inputs)\n",
    "x = Dense(16, activation='relu')(x)\n",
    "predictions = Dense(2, activation='sigmoid')(x) \n",
    "\n",
    "# Create the model\n",
    "model = Model(inputs=inputs, outputs=predictions)\n",
    "\n",
    "# Compile the model\n",
    "model.compile(optimizer='Adam', loss='binary_crossentropy', metrics=['accuracy'])\n",
    "\n",
    "# Print the model summary\n",
    "model.summary()"
   ]
  },
  {
   "cell_type": "code",
   "execution_count": 25,
   "id": "a0b6a534-4fbb-48ed-856e-e16bbaef5949",
   "metadata": {},
   "outputs": [
    {
     "name": "stdout",
     "output_type": "stream",
     "text": [
      "Epoch 1/50\n",
      "WARNING:tensorflow:From C:\\Users\\Choij\\anaconda3\\Lib\\site-packages\\keras\\src\\utils\\tf_utils.py:492: The name tf.ragged.RaggedTensorValue is deprecated. Please use tf.compat.v1.ragged.RaggedTensorValue instead.\n",
      "\n",
      "WARNING:tensorflow:From C:\\Users\\Choij\\anaconda3\\Lib\\site-packages\\keras\\src\\engine\\base_layer_utils.py:384: The name tf.executing_eagerly_outside_functions is deprecated. Please use tf.compat.v1.executing_eagerly_outside_functions instead.\n",
      "\n",
      "40/40 [==============================] - 1s 5ms/step - loss: 8197.5850 - accuracy: 0.5102 - val_loss: 1582.6881 - val_accuracy: 0.4500\n",
      "Epoch 2/50\n",
      "40/40 [==============================] - 0s 1ms/step - loss: 219.5069 - accuracy: 0.4984 - val_loss: 70.7218 - val_accuracy: 0.5312\n",
      "Epoch 3/50\n",
      "40/40 [==============================] - 0s 1ms/step - loss: 72.6724 - accuracy: 0.4953 - val_loss: 63.5164 - val_accuracy: 0.5344\n",
      "Epoch 4/50\n",
      "40/40 [==============================] - 0s 1ms/step - loss: 63.6958 - accuracy: 0.4961 - val_loss: 53.1781 - val_accuracy: 0.5406\n",
      "Epoch 5/50\n",
      "40/40 [==============================] - 0s 1ms/step - loss: 54.1002 - accuracy: 0.5000 - val_loss: 45.0360 - val_accuracy: 0.5437\n",
      "Epoch 6/50\n",
      "40/40 [==============================] - 0s 1ms/step - loss: 45.9989 - accuracy: 0.5008 - val_loss: 42.5391 - val_accuracy: 0.5406\n",
      "Epoch 7/50\n",
      "40/40 [==============================] - 0s 1ms/step - loss: 42.5618 - accuracy: 0.4977 - val_loss: 39.1890 - val_accuracy: 0.5375\n",
      "Epoch 8/50\n",
      "40/40 [==============================] - 0s 1ms/step - loss: 38.5933 - accuracy: 0.4984 - val_loss: 36.8791 - val_accuracy: 0.5406\n",
      "Epoch 9/50\n",
      "40/40 [==============================] - 0s 1ms/step - loss: 35.6675 - accuracy: 0.4953 - val_loss: 35.3475 - val_accuracy: 0.5281\n",
      "Epoch 10/50\n",
      "40/40 [==============================] - 0s 1ms/step - loss: 32.7430 - accuracy: 0.4938 - val_loss: 33.0118 - val_accuracy: 0.5281\n",
      "Epoch 11/50\n",
      "40/40 [==============================] - 0s 1ms/step - loss: 30.1798 - accuracy: 0.4922 - val_loss: 32.2362 - val_accuracy: 0.5250\n",
      "Epoch 12/50\n",
      "40/40 [==============================] - 0s 1ms/step - loss: 29.1151 - accuracy: 0.4938 - val_loss: 29.0201 - val_accuracy: 0.5281\n",
      "Epoch 13/50\n",
      "40/40 [==============================] - 0s 1ms/step - loss: 26.6165 - accuracy: 0.4898 - val_loss: 27.5659 - val_accuracy: 0.5281\n",
      "Epoch 14/50\n",
      "40/40 [==============================] - 0s 1ms/step - loss: 24.4369 - accuracy: 0.4930 - val_loss: 25.5199 - val_accuracy: 0.5188\n",
      "Epoch 15/50\n",
      "40/40 [==============================] - 0s 1ms/step - loss: 22.6500 - accuracy: 0.4922 - val_loss: 22.2625 - val_accuracy: 0.5219\n",
      "Epoch 16/50\n",
      "40/40 [==============================] - 0s 1ms/step - loss: 20.8609 - accuracy: 0.4938 - val_loss: 20.9847 - val_accuracy: 0.5188\n",
      "Epoch 17/50\n",
      "40/40 [==============================] - 0s 1ms/step - loss: 19.3776 - accuracy: 0.5016 - val_loss: 18.6240 - val_accuracy: 0.5281\n",
      "Epoch 18/50\n",
      "40/40 [==============================] - 0s 1ms/step - loss: 19.3042 - accuracy: 0.5039 - val_loss: 18.8042 - val_accuracy: 0.5156\n",
      "Epoch 19/50\n",
      "40/40 [==============================] - 0s 1ms/step - loss: 18.2614 - accuracy: 0.4992 - val_loss: 16.9103 - val_accuracy: 0.5250\n",
      "Epoch 20/50\n",
      "40/40 [==============================] - 0s 1ms/step - loss: 17.0686 - accuracy: 0.5063 - val_loss: 17.1254 - val_accuracy: 0.5281\n",
      "Epoch 21/50\n",
      "40/40 [==============================] - 0s 1ms/step - loss: 16.4476 - accuracy: 0.5141 - val_loss: 17.1922 - val_accuracy: 0.5469\n",
      "Epoch 22/50\n",
      "40/40 [==============================] - 0s 1ms/step - loss: 16.6080 - accuracy: 0.5141 - val_loss: 15.0984 - val_accuracy: 0.5344\n",
      "Epoch 23/50\n",
      "40/40 [==============================] - 0s 1ms/step - loss: 16.2736 - accuracy: 0.5352 - val_loss: 14.7896 - val_accuracy: 0.5375\n",
      "Epoch 24/50\n",
      "40/40 [==============================] - 0s 1ms/step - loss: 15.1683 - accuracy: 0.5312 - val_loss: 14.4791 - val_accuracy: 0.5437\n",
      "Epoch 25/50\n",
      "40/40 [==============================] - 0s 1ms/step - loss: 14.7806 - accuracy: 0.5367 - val_loss: 13.7349 - val_accuracy: 0.5500\n",
      "Epoch 26/50\n",
      "40/40 [==============================] - 0s 1ms/step - loss: 14.2229 - accuracy: 0.5445 - val_loss: 13.6267 - val_accuracy: 0.5781\n",
      "Epoch 27/50\n",
      "40/40 [==============================] - 0s 1ms/step - loss: 13.7366 - accuracy: 0.5766 - val_loss: 12.6214 - val_accuracy: 0.5688\n",
      "Epoch 28/50\n",
      "40/40 [==============================] - 0s 1ms/step - loss: 13.0168 - accuracy: 0.5633 - val_loss: 13.2498 - val_accuracy: 0.6125\n",
      "Epoch 29/50\n",
      "40/40 [==============================] - 0s 1ms/step - loss: 13.2198 - accuracy: 0.5781 - val_loss: 12.4254 - val_accuracy: 0.5656\n",
      "Epoch 30/50\n",
      "40/40 [==============================] - 0s 1ms/step - loss: 12.5221 - accuracy: 0.5945 - val_loss: 11.3887 - val_accuracy: 0.6000\n",
      "Epoch 31/50\n",
      "40/40 [==============================] - 0s 1ms/step - loss: 11.7572 - accuracy: 0.6250 - val_loss: 13.2795 - val_accuracy: 0.6562\n",
      "Epoch 32/50\n",
      "40/40 [==============================] - 0s 1ms/step - loss: 11.7834 - accuracy: 0.6187 - val_loss: 11.0756 - val_accuracy: 0.6469\n",
      "Epoch 33/50\n",
      "40/40 [==============================] - 0s 1ms/step - loss: 10.8489 - accuracy: 0.6750 - val_loss: 10.4648 - val_accuracy: 0.6562\n",
      "Epoch 34/50\n",
      "40/40 [==============================] - 0s 1ms/step - loss: 10.5430 - accuracy: 0.6570 - val_loss: 10.8588 - val_accuracy: 0.7000\n",
      "Epoch 35/50\n",
      "40/40 [==============================] - 0s 1ms/step - loss: 10.7550 - accuracy: 0.6781 - val_loss: 9.2633 - val_accuracy: 0.6625\n",
      "Epoch 36/50\n",
      "40/40 [==============================] - 0s 1ms/step - loss: 9.8684 - accuracy: 0.6633 - val_loss: 11.6810 - val_accuracy: 0.7594\n",
      "Epoch 37/50\n",
      "40/40 [==============================] - 0s 1ms/step - loss: 9.3840 - accuracy: 0.7078 - val_loss: 8.6891 - val_accuracy: 0.6625\n",
      "Epoch 38/50\n",
      "40/40 [==============================] - 0s 1ms/step - loss: 9.1593 - accuracy: 0.7133 - val_loss: 7.8795 - val_accuracy: 0.7031\n",
      "Epoch 39/50\n",
      "40/40 [==============================] - 0s 1ms/step - loss: 9.0607 - accuracy: 0.7273 - val_loss: 7.5492 - val_accuracy: 0.7125\n",
      "Epoch 40/50\n",
      "40/40 [==============================] - 0s 1ms/step - loss: 7.9667 - accuracy: 0.7727 - val_loss: 8.5082 - val_accuracy: 0.8000\n",
      "Epoch 41/50\n",
      "40/40 [==============================] - 0s 1ms/step - loss: 8.8886 - accuracy: 0.7445 - val_loss: 6.7041 - val_accuracy: 0.7781\n",
      "Epoch 42/50\n",
      "40/40 [==============================] - 0s 1ms/step - loss: 8.1896 - accuracy: 0.7094 - val_loss: 6.4653 - val_accuracy: 0.7344\n",
      "Epoch 43/50\n",
      "40/40 [==============================] - 0s 1ms/step - loss: 6.7560 - accuracy: 0.8211 - val_loss: 7.1011 - val_accuracy: 0.7000\n",
      "Epoch 44/50\n",
      "40/40 [==============================] - 0s 1ms/step - loss: 7.2715 - accuracy: 0.7992 - val_loss: 5.6126 - val_accuracy: 0.7844\n",
      "Epoch 45/50\n",
      "40/40 [==============================] - 0s 2ms/step - loss: 6.5494 - accuracy: 0.8367 - val_loss: 5.5368 - val_accuracy: 0.8656\n",
      "Epoch 46/50\n",
      "40/40 [==============================] - 0s 1ms/step - loss: 6.2606 - accuracy: 0.8469 - val_loss: 5.0294 - val_accuracy: 0.8062\n",
      "Epoch 47/50\n",
      "40/40 [==============================] - 0s 1ms/step - loss: 5.9582 - accuracy: 0.8430 - val_loss: 4.7870 - val_accuracy: 0.8813\n",
      "Epoch 48/50\n",
      "40/40 [==============================] - 0s 1ms/step - loss: 5.4504 - accuracy: 0.8672 - val_loss: 4.4999 - val_accuracy: 0.9125\n",
      "Epoch 49/50\n",
      "40/40 [==============================] - 0s 1ms/step - loss: 6.3369 - accuracy: 0.8211 - val_loss: 6.8032 - val_accuracy: 0.7156\n",
      "Epoch 50/50\n",
      "40/40 [==============================] - 0s 1ms/step - loss: 5.0453 - accuracy: 0.8758 - val_loss: 3.7522 - val_accuracy: 0.9062\n",
      "10/10 [==============================] - 0s 680us/step\n"
     ]
    }
   ],
   "source": [
    "model_history=model.fit(x=X_train, y=y_train, epochs=50, batch_size=32, validation_data=(X_test, y_test))\n",
    "y_pred = model.predict(X_test)\n",
    "\n",
    "y_test_class = np.argmax(y_test, axis=1) # 배열에서 최댓값을 가지는 원소의 인덱스를 반환하는 함수\n",
    "y_pred_class = np.argmax(y_pred, axis=1)"
   ]
  },
  {
   "cell_type": "code",
   "execution_count": 30,
   "id": "1d111e85-2609-42eb-810b-dee5665e0766",
   "metadata": {},
   "outputs": [
    {
     "name": "stdout",
     "output_type": "stream",
     "text": [
      "10/10 [==============================] - 0s 944us/step - loss: 3.7522 - accuracy: 0.9062\n"
     ]
    }
   ],
   "source": [
    "test_loss, test_acc = model.evaluate(X_test, y_test)"
   ]
  },
  {
   "cell_type": "code",
   "execution_count": 26,
   "id": "8cf55be0-a7d1-4c3f-8de0-4025093e00f2",
   "metadata": {},
   "outputs": [
    {
     "data": {
      "image/png": "[encoded data removed]",
      "text/plain": [
       "<Figure size 640x480 with 1 Axes>"
      ]
     },
     "metadata": {},
     "output_type": "display_data"
    }
   ],
   "source": [
    "import matplotlib.pyplot as plt\n",
    "import seaborn as sns\n",
    "\n",
    "# 훈련 손실(training loss)과 검증 손실(validation loss) 추출\n",
    "loss = model_history.history['loss']\n",
    "val_loss = model_history.history['val_loss']\n",
    "\n",
    "# 에포크(epoch) 범위 생성\n",
    "epochs = range(1, len(loss) + 1)\n",
    "\n",
    "# 훈련 손실(training loss)과 검증 손실(validation loss) 시각화\n",
    "plt.plot(epochs, loss, 'y', label='Training loss')  # 훈련 손실을 노란색(yellow)으로 플롯\n",
    "plt.plot(epochs, val_loss, 'r', label='Validation loss')  # 검증 손실을 빨간색(red)으로 플롯\n",
    "plt.title('Training and validation loss')  # 그래프 제목 설정\n",
    "plt.xlabel('Epochs')  # x축 레이블 설정\n",
    "plt.ylabel('Loss')  # y축 레이블 설정\n",
    "plt.legend()  # 범례(legend) 표시\n",
    "plt.show()  # 그래프 출력"
   ]
  },
  {
   "cell_type": "code",
   "execution_count": 27,
   "id": "415fef5d-8503-430d-afb9-9a0b0c5c89f8",
   "metadata": {},
   "outputs": [
    {
     "data": {
      "image/png": "[encoded data removed]",
      "text/plain": [
       "<Figure size 640x480 with 1 Axes>"
      ]
     },
     "metadata": {},
     "output_type": "display_data"
    }
   ],
   "source": [
    "acc =model_history.history['accuracy']\n",
    "val_acc =model_history.history['val_accuracy']\n",
    "plt.plot(epochs, acc, 'y', label='Training acc')\n",
    "plt.plot(epochs, val_acc, 'r', label='Validation acc')\n",
    "plt.title('Training and validation accuracy')\n",
    "plt.xlabel('Epochs')\n",
    "plt.ylabel('Accuracy')\n",
    "plt.legend()\n",
    "plt.show()"
   ]
  },
  {
   "cell_type": "code",
   "execution_count": 28,
   "id": "58d2665f-5a66-4e99-b897-d84270605be7",
   "metadata": {},
   "outputs": [
    {
     "name": "stdout",
     "output_type": "stream",
     "text": [
      "              precision    recall  f1-score   support\n",
      "\n",
      "           0       0.98      0.93      0.95       151\n",
      "           1       0.94      0.98      0.96       169\n",
      "\n",
      "    accuracy                           0.96       320\n",
      "   macro avg       0.96      0.95      0.96       320\n",
      "weighted avg       0.96      0.96      0.96       320\n",
      "\n",
      "[[140  11]\n",
      " [  3 166]]\n"
     ]
    }
   ],
   "source": [
    "from sklearn.metrics import accuracy_score, confusion_matrix, classification_report\n",
    "#Accuracy of the predicted values\n",
    "print(classification_report(y_test_class, y_pred_class))\n",
    "print(confusion_matrix(y_test_class, y_pred_class))"
   ]
  },
  {
   "cell_type": "code",
   "execution_count": null,
   "id": "97620552-949d-4b6a-9570-54b9195a4942",
   "metadata": {},
   "outputs": [],
   "source": []
  }
 ],
 "metadata": {
  "kernelspec": {
   "display_name": "Python 3 (ipykernel)",
   "language": "python",
   "name": "python3"
  },
  "language_info": {
   "codemirror_mode": {
    "name": "ipython",
    "version": 3
   },
   "file_extension": ".py",
   "mimetype": "text/x-python",
   "name": "python",
   "nbconvert_exporter": "python",
   "pygments_lexer": "ipython3",
   "version": "3.11.7"
  }
 },
 "nbformat": 4,
 "nbformat_minor": 5
}
