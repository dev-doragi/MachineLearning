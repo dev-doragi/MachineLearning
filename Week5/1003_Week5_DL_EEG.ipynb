{
 "cells": [
  {
   "cell_type": "markdown",
   "id": "cf4d9290-032d-4607-972b-9ad9cf086e98",
   "metadata": {},
   "source": [
    "## Deep Learning EEG"
   ]
  },
  {
   "cell_type": "markdown",
   "id": "7613e873-c1f0-4005-bf57-fd0dc84b12d9",
   "metadata": {},
   "source": [
    "0926_Week4_EEG.ipynb에서 만든 eeg_result_combined.csv파일을 가져와 train test split 후 DL을 수행해보자."
   ]
  },
  {
   "cell_type": "code",
   "execution_count": 1,
   "id": "c4f4c95f-86dc-4d76-9195-cbcf34051bb9",
   "metadata": {},
   "outputs": [
    {
     "name": "stdout",
     "output_type": "stream",
     "text": [
      "WARNING:tensorflow:From C:\\Users\\Choij\\anaconda3\\Lib\\site-packages\\keras\\src\\losses.py:2976: The name tf.losses.sparse_softmax_cross_entropy is deprecated. Please use tf.compat.v1.losses.sparse_softmax_cross_entropy instead.\n",
      "\n"
     ]
    },
    {
     "data": {
      "text/html": [
       "<div>\n",
       "<style scoped>\n",
       "    .dataframe tbody tr th:only-of-type {\n",
       "        vertical-align: middle;\n",
       "    }\n",
       "\n",
       "    .dataframe tbody tr th {\n",
       "        vertical-align: top;\n",
       "    }\n",
       "\n",
       "    .dataframe thead th {\n",
       "        text-align: right;\n",
       "    }\n",
       "</style>\n",
       "<table border=\"1\" class=\"dataframe\">\n",
       "  <thead>\n",
       "    <tr style=\"text-align: right;\">\n",
       "      <th></th>\n",
       "      <th>mean</th>\n",
       "      <th>std</th>\n",
       "      <th>median</th>\n",
       "      <th>mean2</th>\n",
       "      <th>std2</th>\n",
       "      <th>median2</th>\n",
       "      <th>EEG</th>\n",
       "    </tr>\n",
       "  </thead>\n",
       "  <tbody>\n",
       "    <tr>\n",
       "      <th>0</th>\n",
       "      <td>397.587891</td>\n",
       "      <td>228.156137</td>\n",
       "      <td>387.0</td>\n",
       "      <td>210131.353516</td>\n",
       "      <td>226674.550429</td>\n",
       "      <td>149769.0</td>\n",
       "      <td>1</td>\n",
       "    </tr>\n",
       "    <tr>\n",
       "      <th>1</th>\n",
       "      <td>490.419922</td>\n",
       "      <td>387.684615</td>\n",
       "      <td>399.0</td>\n",
       "      <td>390811.060547</td>\n",
       "      <td>676477.249957</td>\n",
       "      <td>159201.0</td>\n",
       "      <td>1</td>\n",
       "    </tr>\n",
       "    <tr>\n",
       "      <th>2</th>\n",
       "      <td>183.037109</td>\n",
       "      <td>131.929301</td>\n",
       "      <td>173.0</td>\n",
       "      <td>50907.923828</td>\n",
       "      <td>89385.029886</td>\n",
       "      <td>29929.0</td>\n",
       "      <td>1</td>\n",
       "    </tr>\n",
       "    <tr>\n",
       "      <th>3</th>\n",
       "      <td>140.076172</td>\n",
       "      <td>94.416030</td>\n",
       "      <td>130.0</td>\n",
       "      <td>28535.720703</td>\n",
       "      <td>34899.483404</td>\n",
       "      <td>16900.0</td>\n",
       "      <td>1</td>\n",
       "    </tr>\n",
       "    <tr>\n",
       "      <th>4</th>\n",
       "      <td>27.093750</td>\n",
       "      <td>19.306810</td>\n",
       "      <td>24.0</td>\n",
       "      <td>1106.824219</td>\n",
       "      <td>1409.293350</td>\n",
       "      <td>576.0</td>\n",
       "      <td>0</td>\n",
       "    </tr>\n",
       "    <tr>\n",
       "      <th>...</th>\n",
       "      <td>...</td>\n",
       "      <td>...</td>\n",
       "      <td>...</td>\n",
       "      <td>...</td>\n",
       "      <td>...</td>\n",
       "      <td>...</td>\n",
       "      <td>...</td>\n",
       "    </tr>\n",
       "    <tr>\n",
       "      <th>1595</th>\n",
       "      <td>53.630859</td>\n",
       "      <td>28.627021</td>\n",
       "      <td>52.0</td>\n",
       "      <td>3695.775391</td>\n",
       "      <td>3444.183525</td>\n",
       "      <td>2704.0</td>\n",
       "      <td>0</td>\n",
       "    </tr>\n",
       "    <tr>\n",
       "      <th>1596</th>\n",
       "      <td>19.496094</td>\n",
       "      <td>15.681522</td>\n",
       "      <td>15.0</td>\n",
       "      <td>626.007812</td>\n",
       "      <td>925.451651</td>\n",
       "      <td>225.0</td>\n",
       "      <td>0</td>\n",
       "    </tr>\n",
       "    <tr>\n",
       "      <th>1597</th>\n",
       "      <td>36.755859</td>\n",
       "      <td>26.725547</td>\n",
       "      <td>32.0</td>\n",
       "      <td>2065.248047</td>\n",
       "      <td>2544.590834</td>\n",
       "      <td>1024.0</td>\n",
       "      <td>0</td>\n",
       "    </tr>\n",
       "    <tr>\n",
       "      <th>1598</th>\n",
       "      <td>27.958984</td>\n",
       "      <td>20.891841</td>\n",
       "      <td>24.5</td>\n",
       "      <td>1218.173828</td>\n",
       "      <td>1621.430200</td>\n",
       "      <td>600.5</td>\n",
       "      <td>0</td>\n",
       "    </tr>\n",
       "    <tr>\n",
       "      <th>1599</th>\n",
       "      <td>366.785156</td>\n",
       "      <td>248.937909</td>\n",
       "      <td>289.0</td>\n",
       "      <td>196501.433594</td>\n",
       "      <td>223971.754276</td>\n",
       "      <td>83521.0</td>\n",
       "      <td>1</td>\n",
       "    </tr>\n",
       "  </tbody>\n",
       "</table>\n",
       "<p>1600 rows × 7 columns</p>\n",
       "</div>"
      ],
      "text/plain": [
       "            mean         std  median          mean2           std2   median2  \\\n",
       "0     397.587891  228.156137   387.0  210131.353516  226674.550429  149769.0   \n",
       "1     490.419922  387.684615   399.0  390811.060547  676477.249957  159201.0   \n",
       "2     183.037109  131.929301   173.0   50907.923828   89385.029886   29929.0   \n",
       "3     140.076172   94.416030   130.0   28535.720703   34899.483404   16900.0   \n",
       "4      27.093750   19.306810    24.0    1106.824219    1409.293350     576.0   \n",
       "...          ...         ...     ...            ...            ...       ...   \n",
       "1595   53.630859   28.627021    52.0    3695.775391    3444.183525    2704.0   \n",
       "1596   19.496094   15.681522    15.0     626.007812     925.451651     225.0   \n",
       "1597   36.755859   26.725547    32.0    2065.248047    2544.590834    1024.0   \n",
       "1598   27.958984   20.891841    24.5    1218.173828    1621.430200     600.5   \n",
       "1599  366.785156  248.937909   289.0  196501.433594  223971.754276   83521.0   \n",
       "\n",
       "      EEG  \n",
       "0       1  \n",
       "1       1  \n",
       "2       1  \n",
       "3       1  \n",
       "4       0  \n",
       "...   ...  \n",
       "1595    0  \n",
       "1596    0  \n",
       "1597    0  \n",
       "1598    0  \n",
       "1599    1  \n",
       "\n",
       "[1600 rows x 7 columns]"
      ]
     },
     "execution_count": 1,
     "metadata": {},
     "output_type": "execute_result"
    }
   ],
   "source": [
    "import numpy as np\n",
    "import pandas as pd\n",
    "import matplotlib.pyplot as plt\n",
    "from sklearn.model_selection import train_test_split\n",
    "from keras import models, layers\n",
    "import seaborn as sns\n",
    "import tensorflow as tf\n",
    "from tensorflow import keras\n",
    "\n",
    "df = pd.read_csv(\"C:/Project/MachineLearning/Result/eeg_result_combined.csv\", encoding='cp949') # \\는 콜백문자 때문에 \\\\로 사용한다.\n",
    "df"
   ]
  },
  {
   "cell_type": "code",
   "execution_count": 2,
   "id": "e0307fc8-5e4b-46d0-b9b6-cc0279ebc934",
   "metadata": {},
   "outputs": [
    {
     "data": {
      "text/html": [
       "<div>\n",
       "<style scoped>\n",
       "    .dataframe tbody tr th:only-of-type {\n",
       "        vertical-align: middle;\n",
       "    }\n",
       "\n",
       "    .dataframe tbody tr th {\n",
       "        vertical-align: top;\n",
       "    }\n",
       "\n",
       "    .dataframe thead th {\n",
       "        text-align: right;\n",
       "    }\n",
       "</style>\n",
       "<table border=\"1\" class=\"dataframe\">\n",
       "  <thead>\n",
       "    <tr style=\"text-align: right;\">\n",
       "      <th></th>\n",
       "      <th>mean</th>\n",
       "      <th>std</th>\n",
       "      <th>median</th>\n",
       "      <th>mean2</th>\n",
       "      <th>std2</th>\n",
       "      <th>median2</th>\n",
       "    </tr>\n",
       "  </thead>\n",
       "  <tbody>\n",
       "    <tr>\n",
       "      <th>0</th>\n",
       "      <td>397.587891</td>\n",
       "      <td>228.156137</td>\n",
       "      <td>387.0</td>\n",
       "      <td>210131.353516</td>\n",
       "      <td>226674.550429</td>\n",
       "      <td>149769.0</td>\n",
       "    </tr>\n",
       "    <tr>\n",
       "      <th>1</th>\n",
       "      <td>490.419922</td>\n",
       "      <td>387.684615</td>\n",
       "      <td>399.0</td>\n",
       "      <td>390811.060547</td>\n",
       "      <td>676477.249957</td>\n",
       "      <td>159201.0</td>\n",
       "    </tr>\n",
       "    <tr>\n",
       "      <th>2</th>\n",
       "      <td>183.037109</td>\n",
       "      <td>131.929301</td>\n",
       "      <td>173.0</td>\n",
       "      <td>50907.923828</td>\n",
       "      <td>89385.029886</td>\n",
       "      <td>29929.0</td>\n",
       "    </tr>\n",
       "    <tr>\n",
       "      <th>3</th>\n",
       "      <td>140.076172</td>\n",
       "      <td>94.416030</td>\n",
       "      <td>130.0</td>\n",
       "      <td>28535.720703</td>\n",
       "      <td>34899.483404</td>\n",
       "      <td>16900.0</td>\n",
       "    </tr>\n",
       "    <tr>\n",
       "      <th>4</th>\n",
       "      <td>27.093750</td>\n",
       "      <td>19.306810</td>\n",
       "      <td>24.0</td>\n",
       "      <td>1106.824219</td>\n",
       "      <td>1409.293350</td>\n",
       "      <td>576.0</td>\n",
       "    </tr>\n",
       "  </tbody>\n",
       "</table>\n",
       "</div>"
      ],
      "text/plain": [
       "         mean         std  median          mean2           std2   median2\n",
       "0  397.587891  228.156137   387.0  210131.353516  226674.550429  149769.0\n",
       "1  490.419922  387.684615   399.0  390811.060547  676477.249957  159201.0\n",
       "2  183.037109  131.929301   173.0   50907.923828   89385.029886   29929.0\n",
       "3  140.076172   94.416030   130.0   28535.720703   34899.483404   16900.0\n",
       "4   27.093750   19.306810    24.0    1106.824219    1409.293350     576.0"
      ]
     },
     "execution_count": 2,
     "metadata": {},
     "output_type": "execute_result"
    }
   ],
   "source": [
    "X=df.drop('EEG', axis=1)\n",
    "X.head()"
   ]
  },
  {
   "cell_type": "code",
   "execution_count": 3,
   "id": "a5dcce8b-b54f-4ed4-aea1-fbc8b5b25d55",
   "metadata": {},
   "outputs": [
    {
     "data": {
      "text/plain": [
       "1    800\n",
       "0    800\n",
       "Name: EEG, dtype: int64"
      ]
     },
     "execution_count": 3,
     "metadata": {},
     "output_type": "execute_result"
    }
   ],
   "source": [
    "y=df['EEG']\n",
    "y.value_counts()"
   ]
  },
  {
   "cell_type": "code",
   "execution_count": 4,
   "id": "aa580a04-f0f0-47eb-b6ad-bfa1577fdc31",
   "metadata": {},
   "outputs": [
    {
     "data": {
      "text/plain": [
       "array([[0, 1],\n",
       "       [0, 1],\n",
       "       [0, 1],\n",
       "       ...,\n",
       "       [1, 0],\n",
       "       [1, 0],\n",
       "       [0, 1]], dtype=uint8)"
      ]
     },
     "execution_count": 4,
     "metadata": {},
     "output_type": "execute_result"
    }
   ],
   "source": [
    "y = pd.get_dummies(y).values\n",
    "y"
   ]
  },
  {
   "cell_type": "code",
   "execution_count": 5,
   "id": "8337e3e4-92ca-4add-9986-3e518fc7ab97",
   "metadata": {},
   "outputs": [
    {
     "data": {
      "text/html": [
       "<div>\n",
       "<style scoped>\n",
       "    .dataframe tbody tr th:only-of-type {\n",
       "        vertical-align: middle;\n",
       "    }\n",
       "\n",
       "    .dataframe tbody tr th {\n",
       "        vertical-align: top;\n",
       "    }\n",
       "\n",
       "    .dataframe thead th {\n",
       "        text-align: right;\n",
       "    }\n",
       "</style>\n",
       "<table border=\"1\" class=\"dataframe\">\n",
       "  <thead>\n",
       "    <tr style=\"text-align: right;\">\n",
       "      <th></th>\n",
       "      <th>mean</th>\n",
       "      <th>std</th>\n",
       "      <th>median</th>\n",
       "      <th>mean2</th>\n",
       "      <th>std2</th>\n",
       "      <th>median2</th>\n",
       "    </tr>\n",
       "  </thead>\n",
       "  <tbody>\n",
       "    <tr>\n",
       "      <th>728</th>\n",
       "      <td>166.699219</td>\n",
       "      <td>110.905714</td>\n",
       "      <td>147.0</td>\n",
       "      <td>40088.707031</td>\n",
       "      <td>46777.919566</td>\n",
       "      <td>21609.0</td>\n",
       "    </tr>\n",
       "    <tr>\n",
       "      <th>48</th>\n",
       "      <td>89.533203</td>\n",
       "      <td>64.798326</td>\n",
       "      <td>79.5</td>\n",
       "      <td>12215.017578</td>\n",
       "      <td>14100.659340</td>\n",
       "      <td>6320.5</td>\n",
       "    </tr>\n",
       "    <tr>\n",
       "      <th>644</th>\n",
       "      <td>30.251953</td>\n",
       "      <td>21.597006</td>\n",
       "      <td>26.0</td>\n",
       "      <td>1381.611328</td>\n",
       "      <td>1712.054194</td>\n",
       "      <td>676.0</td>\n",
       "    </tr>\n",
       "    <tr>\n",
       "      <th>615</th>\n",
       "      <td>328.052734</td>\n",
       "      <td>211.013549</td>\n",
       "      <td>325.0</td>\n",
       "      <td>152145.314453</td>\n",
       "      <td>180005.953860</td>\n",
       "      <td>105625.0</td>\n",
       "    </tr>\n",
       "    <tr>\n",
       "      <th>757</th>\n",
       "      <td>17.726562</td>\n",
       "      <td>12.796768</td>\n",
       "      <td>16.0</td>\n",
       "      <td>477.988281</td>\n",
       "      <td>636.574079</td>\n",
       "      <td>256.0</td>\n",
       "    </tr>\n",
       "  </tbody>\n",
       "</table>\n",
       "</div>"
      ],
      "text/plain": [
       "           mean         std  median          mean2           std2   median2\n",
       "728  166.699219  110.905714   147.0   40088.707031   46777.919566   21609.0\n",
       "48    89.533203   64.798326    79.5   12215.017578   14100.659340    6320.5\n",
       "644   30.251953   21.597006    26.0    1381.611328    1712.054194     676.0\n",
       "615  328.052734  211.013549   325.0  152145.314453  180005.953860  105625.0\n",
       "757   17.726562   12.796768    16.0     477.988281     636.574079     256.0"
      ]
     },
     "execution_count": 5,
     "metadata": {},
     "output_type": "execute_result"
    }
   ],
   "source": [
    "from sklearn.model_selection import train_test_split\n",
    "\n",
    "X_train, X_test, y_train, y_test = train_test_split(X, y, test_size=0.2, random_state=0)\n",
    "\n",
    "X_train.head()"
   ]
  },
  {
   "cell_type": "code",
   "execution_count": 6,
   "id": "44b6371b-9d7c-4052-8462-bc05b67f2c3f",
   "metadata": {},
   "outputs": [
    {
     "data": {
      "text/plain": [
       "array([[0, 1],\n",
       "       [0, 1],\n",
       "       [1, 0],\n",
       "       ...,\n",
       "       [1, 0],\n",
       "       [1, 0],\n",
       "       [1, 0]], dtype=uint8)"
      ]
     },
     "execution_count": 6,
     "metadata": {},
     "output_type": "execute_result"
    }
   ],
   "source": [
    "y_train"
   ]
  },
  {
   "cell_type": "code",
   "execution_count": 7,
   "id": "6fa86d5d-c863-4b4a-9743-ccaabdef8a9a",
   "metadata": {},
   "outputs": [],
   "source": [
    "from keras.models import Sequential, Model\n",
    "from keras.layers import Dense, Input\n",
    "from keras.optimizers import Adam\n",
    "from tensorflow.keras import layers"
   ]
  },
  {
   "cell_type": "code",
   "execution_count": 8,
   "id": "46cac367-f08b-4493-9a1f-683cf114f324",
   "metadata": {},
   "outputs": [
    {
     "name": "stdout",
     "output_type": "stream",
     "text": [
      "WARNING:tensorflow:From C:\\Users\\Choij\\anaconda3\\Lib\\site-packages\\keras\\src\\backend.py:1398: The name tf.executing_eagerly_outside_functions is deprecated. Please use tf.compat.v1.executing_eagerly_outside_functions instead.\n",
      "\n",
      "WARNING:tensorflow:From C:\\Users\\Choij\\anaconda3\\Lib\\site-packages\\keras\\src\\optimizers\\__init__.py:309: The name tf.train.Optimizer is deprecated. Please use tf.compat.v1.train.Optimizer instead.\n",
      "\n",
      "Model: \"model\"\n",
      "_________________________________________________________________\n",
      " Layer (type)                Output Shape              Param #   \n",
      "=================================================================\n",
      " input_1 (InputLayer)        [(None, 6)]               0         \n",
      "                                                                 \n",
      " dense (Dense)               (None, 16)                112       \n",
      "                                                                 \n",
      " dense_1 (Dense)             (None, 16)                272       \n",
      "                                                                 \n",
      " dense_2 (Dense)             (None, 2)                 34        \n",
      "                                                                 \n",
      "=================================================================\n",
      "Total params: 418 (1.63 KB)\n",
      "Trainable params: 418 (1.63 KB)\n",
      "Non-trainable params: 0 (0.00 Byte)\n",
      "_________________________________________________________________\n"
     ]
    }
   ],
   "source": [
    "# Define the input layer\n",
    "inputs = Input(shape=(X_train.shape[1],))\n",
    "\n",
    "# Define the model architecture\n",
    "x = Dense(16, activation='relu')(inputs)\n",
    "x = Dense(16, activation='relu')(x)\n",
    "predictions = Dense(2, activation='sigmoid')(x) \n",
    "\n",
    "# Create the model\n",
    "model = Model(inputs=inputs, outputs=predictions)\n",
    "\n",
    "# Compile the model\n",
    "model.compile(optimizer='Adam', loss='binary_crossentropy', metrics=['accuracy'])\n",
    "\n",
    "# Print the model summary\n",
    "model.summary()"
   ]
  },
  {
   "cell_type": "code",
   "execution_count": 9,
   "id": "a0b6a534-4fbb-48ed-856e-e16bbaef5949",
   "metadata": {},
   "outputs": [
    {
     "name": "stdout",
     "output_type": "stream",
     "text": [
      "Epoch 1/50\n",
      "WARNING:tensorflow:From C:\\Users\\Choij\\anaconda3\\Lib\\site-packages\\keras\\src\\utils\\tf_utils.py:492: The name tf.ragged.RaggedTensorValue is deprecated. Please use tf.compat.v1.ragged.RaggedTensorValue instead.\n",
      "\n",
      "WARNING:tensorflow:From C:\\Users\\Choij\\anaconda3\\Lib\\site-packages\\keras\\src\\engine\\base_layer_utils.py:384: The name tf.executing_eagerly_outside_functions is deprecated. Please use tf.compat.v1.executing_eagerly_outside_functions instead.\n",
      "\n",
      "40/40 [==============================] - 1s 9ms/step - loss: 2642.6211 - accuracy: 0.4734 - val_loss: 121.9192 - val_accuracy: 0.5281\n",
      "Epoch 2/50\n",
      "40/40 [==============================] - 0s 1ms/step - loss: 126.5106 - accuracy: 0.4930 - val_loss: 117.2870 - val_accuracy: 0.5281\n",
      "Epoch 3/50\n",
      "40/40 [==============================] - 0s 1ms/step - loss: 104.4255 - accuracy: 0.4930 - val_loss: 89.1588 - val_accuracy: 0.5281\n",
      "Epoch 4/50\n",
      "40/40 [==============================] - 0s 1ms/step - loss: 73.4447 - accuracy: 0.4930 - val_loss: 57.1272 - val_accuracy: 0.5281\n",
      "Epoch 5/50\n",
      "40/40 [==============================] - 0s 1ms/step - loss: 50.8227 - accuracy: 0.4914 - val_loss: 40.8329 - val_accuracy: 0.5281\n",
      "Epoch 6/50\n",
      "40/40 [==============================] - 0s 1ms/step - loss: 42.6324 - accuracy: 0.4922 - val_loss: 35.3558 - val_accuracy: 0.5281\n",
      "Epoch 7/50\n",
      "40/40 [==============================] - 0s 1ms/step - loss: 32.8257 - accuracy: 0.4906 - val_loss: 31.0271 - val_accuracy: 0.5281\n",
      "Epoch 8/50\n",
      "40/40 [==============================] - 0s 1ms/step - loss: 27.8475 - accuracy: 0.4914 - val_loss: 19.7324 - val_accuracy: 0.5281\n",
      "Epoch 9/50\n",
      "40/40 [==============================] - 0s 1ms/step - loss: 20.3083 - accuracy: 0.4914 - val_loss: 15.7437 - val_accuracy: 0.5250\n",
      "Epoch 10/50\n",
      "40/40 [==============================] - 0s 1ms/step - loss: 14.9003 - accuracy: 0.5094 - val_loss: 12.5482 - val_accuracy: 0.5312\n",
      "Epoch 11/50\n",
      "40/40 [==============================] - 0s 1ms/step - loss: 11.6423 - accuracy: 0.5586 - val_loss: 10.8475 - val_accuracy: 0.5344\n",
      "Epoch 12/50\n",
      "40/40 [==============================] - 0s 1ms/step - loss: 8.3909 - accuracy: 0.5992 - val_loss: 7.6302 - val_accuracy: 0.5906\n",
      "Epoch 13/50\n",
      "40/40 [==============================] - 0s 1ms/step - loss: 7.0244 - accuracy: 0.6578 - val_loss: 7.2812 - val_accuracy: 0.6156\n",
      "Epoch 14/50\n",
      "40/40 [==============================] - 0s 1ms/step - loss: 5.8570 - accuracy: 0.7406 - val_loss: 5.2618 - val_accuracy: 0.7094\n",
      "Epoch 15/50\n",
      "40/40 [==============================] - 0s 2ms/step - loss: 5.5256 - accuracy: 0.7719 - val_loss: 7.5277 - val_accuracy: 0.6469\n",
      "Epoch 16/50\n",
      "40/40 [==============================] - 0s 1ms/step - loss: 4.7500 - accuracy: 0.8078 - val_loss: 3.5095 - val_accuracy: 0.8719\n",
      "Epoch 17/50\n",
      "40/40 [==============================] - 0s 1ms/step - loss: 3.4130 - accuracy: 0.8891 - val_loss: 3.2723 - val_accuracy: 0.9125\n",
      "Epoch 18/50\n",
      "40/40 [==============================] - 0s 1ms/step - loss: 3.1169 - accuracy: 0.8875 - val_loss: 4.4338 - val_accuracy: 0.7781\n",
      "Epoch 19/50\n",
      "40/40 [==============================] - 0s 1ms/step - loss: 2.8378 - accuracy: 0.8922 - val_loss: 2.7673 - val_accuracy: 0.9250\n",
      "Epoch 20/50\n",
      "40/40 [==============================] - 0s 1ms/step - loss: 2.8185 - accuracy: 0.8977 - val_loss: 2.5296 - val_accuracy: 0.9312\n",
      "Epoch 21/50\n",
      "40/40 [==============================] - 0s 1ms/step - loss: 2.1747 - accuracy: 0.9195 - val_loss: 2.2742 - val_accuracy: 0.9375\n",
      "Epoch 22/50\n",
      "40/40 [==============================] - 0s 1ms/step - loss: 1.8594 - accuracy: 0.9336 - val_loss: 2.0611 - val_accuracy: 0.9375\n",
      "Epoch 23/50\n",
      "40/40 [==============================] - 0s 1ms/step - loss: 1.6350 - accuracy: 0.9367 - val_loss: 2.1568 - val_accuracy: 0.9406\n",
      "Epoch 24/50\n",
      "40/40 [==============================] - 0s 1ms/step - loss: 2.1805 - accuracy: 0.9156 - val_loss: 1.8275 - val_accuracy: 0.9344\n",
      "Epoch 25/50\n",
      "40/40 [==============================] - 0s 1ms/step - loss: 1.6844 - accuracy: 0.9367 - val_loss: 1.9382 - val_accuracy: 0.9500\n",
      "Epoch 26/50\n",
      "40/40 [==============================] - 0s 1ms/step - loss: 2.1497 - accuracy: 0.9109 - val_loss: 1.7948 - val_accuracy: 0.9594\n",
      "Epoch 27/50\n",
      "40/40 [==============================] - 0s 1ms/step - loss: 1.5438 - accuracy: 0.9367 - val_loss: 1.6335 - val_accuracy: 0.9563\n",
      "Epoch 28/50\n",
      "40/40 [==============================] - 0s 1ms/step - loss: 1.3887 - accuracy: 0.9477 - val_loss: 1.8476 - val_accuracy: 0.9500\n",
      "Epoch 29/50\n",
      "40/40 [==============================] - 0s 1ms/step - loss: 1.8340 - accuracy: 0.9250 - val_loss: 2.1983 - val_accuracy: 0.9250\n",
      "Epoch 30/50\n",
      "40/40 [==============================] - 0s 1ms/step - loss: 1.3832 - accuracy: 0.9391 - val_loss: 1.4705 - val_accuracy: 0.9531\n",
      "Epoch 31/50\n",
      "40/40 [==============================] - 0s 1ms/step - loss: 1.4971 - accuracy: 0.9422 - val_loss: 1.3580 - val_accuracy: 0.9531\n",
      "Epoch 32/50\n",
      "40/40 [==============================] - 0s 1ms/step - loss: 1.2247 - accuracy: 0.9453 - val_loss: 1.5512 - val_accuracy: 0.9594\n",
      "Epoch 33/50\n",
      "40/40 [==============================] - 0s 1ms/step - loss: 1.1122 - accuracy: 0.9563 - val_loss: 1.5447 - val_accuracy: 0.9625\n",
      "Epoch 34/50\n",
      "40/40 [==============================] - 0s 1ms/step - loss: 1.0337 - accuracy: 0.9539 - val_loss: 2.2441 - val_accuracy: 0.8781\n",
      "Epoch 35/50\n",
      "40/40 [==============================] - 0s 1ms/step - loss: 1.3230 - accuracy: 0.9359 - val_loss: 1.1220 - val_accuracy: 0.9469\n",
      "Epoch 36/50\n",
      "40/40 [==============================] - 0s 1ms/step - loss: 1.0625 - accuracy: 0.9609 - val_loss: 1.5313 - val_accuracy: 0.9812\n",
      "Epoch 37/50\n",
      "40/40 [==============================] - 0s 1ms/step - loss: 0.9747 - accuracy: 0.9484 - val_loss: 1.4668 - val_accuracy: 0.9719\n",
      "Epoch 38/50\n",
      "40/40 [==============================] - 0s 1ms/step - loss: 0.7948 - accuracy: 0.9641 - val_loss: 1.1092 - val_accuracy: 0.9688\n",
      "Epoch 39/50\n",
      "40/40 [==============================] - 0s 1ms/step - loss: 1.6049 - accuracy: 0.9148 - val_loss: 3.1538 - val_accuracy: 0.8406\n",
      "Epoch 40/50\n",
      "40/40 [==============================] - 0s 1ms/step - loss: 1.3584 - accuracy: 0.9492 - val_loss: 0.8100 - val_accuracy: 0.9750\n",
      "Epoch 41/50\n",
      "40/40 [==============================] - 0s 2ms/step - loss: 0.6955 - accuracy: 0.9695 - val_loss: 0.9822 - val_accuracy: 0.9688\n",
      "Epoch 42/50\n",
      "40/40 [==============================] - 0s 1ms/step - loss: 0.7182 - accuracy: 0.9680 - val_loss: 1.0291 - val_accuracy: 0.9625\n",
      "Epoch 43/50\n",
      "40/40 [==============================] - 0s 1ms/step - loss: 0.5878 - accuracy: 0.9734 - val_loss: 0.9262 - val_accuracy: 0.9656\n",
      "Epoch 44/50\n",
      "40/40 [==============================] - 0s 1ms/step - loss: 0.5075 - accuracy: 0.9727 - val_loss: 1.1477 - val_accuracy: 0.9625\n",
      "Epoch 45/50\n",
      "40/40 [==============================] - 0s 1ms/step - loss: 0.9777 - accuracy: 0.9438 - val_loss: 1.0540 - val_accuracy: 0.9812\n",
      "Epoch 46/50\n",
      "40/40 [==============================] - 0s 1ms/step - loss: 0.4835 - accuracy: 0.9758 - val_loss: 0.7656 - val_accuracy: 0.9688\n",
      "Epoch 47/50\n",
      "40/40 [==============================] - 0s 1ms/step - loss: 0.4073 - accuracy: 0.9734 - val_loss: 0.7673 - val_accuracy: 0.9750\n",
      "Epoch 48/50\n",
      "40/40 [==============================] - 0s 1ms/step - loss: 0.3610 - accuracy: 0.9797 - val_loss: 0.8972 - val_accuracy: 0.9625\n",
      "Epoch 49/50\n",
      "40/40 [==============================] - 0s 1ms/step - loss: 0.3795 - accuracy: 0.9789 - val_loss: 1.0757 - val_accuracy: 0.9750\n",
      "Epoch 50/50\n",
      "40/40 [==============================] - 0s 1ms/step - loss: 0.3339 - accuracy: 0.9820 - val_loss: 0.7153 - val_accuracy: 0.9719\n",
      "10/10 [==============================] - 0s 723us/step\n"
     ]
    }
   ],
   "source": [
    "model_history=model.fit(x=X_train, y=y_train, epochs=50, batch_size=32, validation_data=(X_test, y_test))\n",
    "y_pred = model.predict(X_test)\n",
    "\n",
    "y_test_class = np.argmax(y_test, axis=1) # 배열에서 최댓값을 가지는 원소의 인덱스를 반환하는 함수\n",
    "y_pred_class = np.argmax(y_pred, axis=1)"
   ]
  },
  {
   "cell_type": "code",
   "execution_count": 10,
   "id": "1d111e85-2609-42eb-810b-dee5665e0766",
   "metadata": {},
   "outputs": [
    {
     "name": "stdout",
     "output_type": "stream",
     "text": [
      "10/10 [==============================] - 0s 792us/step - loss: 0.7153 - accuracy: 0.9719\n"
     ]
    }
   ],
   "source": [
    "test_loss, test_acc = model.evaluate(X_test, y_test)"
   ]
  },
  {
   "cell_type": "code",
   "execution_count": 11,
   "id": "8cf55be0-a7d1-4c3f-8de0-4025093e00f2",
   "metadata": {},
   "outputs": [
    {
     "data": {
      "image/png": "[encoded data removed]",
      "text/plain": [
       "<Figure size 640x480 with 1 Axes>"
      ]
     },
     "metadata": {},
     "output_type": "display_data"
    }
   ],
   "source": [
    "import matplotlib.pyplot as plt\n",
    "import seaborn as sns\n",
    "\n",
    "# 훈련 손실(training loss)과 검증 손실(validation loss) 추출\n",
    "loss = model_history.history['loss']\n",
    "val_loss = model_history.history['val_loss']\n",
    "\n",
    "# 에포크(epoch) 범위 생성\n",
    "epochs = range(1, len(loss) + 1)\n",
    "\n",
    "# 훈련 손실(training loss)과 검증 손실(validation loss) 시각화\n",
    "plt.plot(epochs, loss, 'y', label='Training loss')  # 훈련 손실을 노란색(yellow)으로 플롯\n",
    "plt.plot(epochs, val_loss, 'r', label='Validation loss')  # 검증 손실을 빨간색(red)으로 플롯\n",
    "plt.title('Training and validation loss')  # 그래프 제목 설정\n",
    "plt.xlabel('Epochs')  # x축 레이블 설정\n",
    "plt.ylabel('Loss')  # y축 레이블 설정\n",
    "plt.legend()  # 범례(legend) 표시\n",
    "plt.show()  # 그래프 출력"
   ]
  },
  {
   "cell_type": "code",
   "execution_count": 12,
   "id": "415fef5d-8503-430d-afb9-9a0b0c5c89f8",
   "metadata": {},
   "outputs": [
    {
     "data": {
      "image/png": "[encoded data removed]",
      "text/plain": [
       "<Figure size 640x480 with 1 Axes>"
      ]
     },
     "metadata": {},
     "output_type": "display_data"
    }
   ],
   "source": [
    "acc =model_history.history['accuracy']\n",
    "val_acc =model_history.history['val_accuracy']\n",
    "plt.plot(epochs, acc, 'y', label='Training acc')\n",
    "plt.plot(epochs, val_acc, 'r', label='Validation acc')\n",
    "plt.title('Training and validation accuracy')\n",
    "plt.xlabel('Epochs')\n",
    "plt.ylabel('Accuracy')\n",
    "plt.legend()\n",
    "plt.show()"
   ]
  },
  {
   "cell_type": "code",
   "execution_count": 13,
   "id": "58d2665f-5a66-4e99-b897-d84270605be7",
   "metadata": {},
   "outputs": [
    {
     "name": "stdout",
     "output_type": "stream",
     "text": [
      "              precision    recall  f1-score   support\n",
      "\n",
      "           0       0.99      0.95      0.97       151\n",
      "           1       0.95      0.99      0.97       169\n",
      "\n",
      "    accuracy                           0.97       320\n",
      "   macro avg       0.97      0.97      0.97       320\n",
      "weighted avg       0.97      0.97      0.97       320\n",
      "\n",
      "[[143   8]\n",
      " [  1 168]]\n"
     ]
    }
   ],
   "source": [
    "from sklearn.metrics import accuracy_score, confusion_matrix, classification_report\n",
    "#Accuracy of the predicted values\n",
    "print(classification_report(y_test_class, y_pred_class))\n",
    "print(confusion_matrix(y_test_class, y_pred_class))"
   ]
  }
 ],
 "metadata": {
  "kernelspec": {
   "display_name": "Python 3 (ipykernel)",
   "language": "python",
   "name": "python3"
  },
  "language_info": {
   "codemirror_mode": {
    "name": "ipython",
    "version": 3
   },
   "file_extension": ".py",
   "mimetype": "text/x-python",
   "name": "python",
   "nbconvert_exporter": "python",
   "pygments_lexer": "ipython3",
   "version": "3.11.7"
  }
 },
 "nbformat": 4,
 "nbformat_minor": 5
}
